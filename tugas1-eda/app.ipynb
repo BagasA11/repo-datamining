{
 "cells": [
  {
   "cell_type": "markdown",
   "metadata": {},
   "source": [
    "# Pendarahan Postpartum pada Ibu Hamil\n",
    "Angka kematian ibu adalah salah satu indikator dalam menentukan derajat kesehatan. Penyebab kematian ibu \n",
    "terbanyak pada tahun 2011 adalah perdarahan post partum. Postpartum adalah periode setelah seorang wanita melahirkan, sering dikenal sebagai masa pasca-melahirkan. Biasanya, periode ini mencakup enam minggu pertama setelah kelahiran, meskipun beberapa efek fisik dan emosional bisa berlangsung lebih lama.\n",
    "Menurut penelitian dari jurnal Unair, beberapa faktor penyebab pendarahan 'post partum' adalah umur, paritas, dan anemia.\n",
    "\n",
    "Jurnal tersebut menggunakan Uji pengaruh antar variabel dengan uji regresi logistik ganda dengan hasil \n",
    "usia dengan p = 0,000 nilai Exp (B) = 0,050 anemia p = 0,016 nilai Exp (B) = \n",
    "0,078 Sedangkan faktor yang tidak berpengaruh adalah paritas.\n",
    "\n",
    "[link jurnal](https://journal.unair.ac.id/download-fullpapers-jbk82be4db4e42full.pdf#:~:text=Faktor%20predisposisi%20perdarahan%20post%20partum%20ibu%20adalah%20umur,%20paritas,%20jarak\n",
    ")\n",
    "\n",
    "namun atribut yang digunakan pada file ipynb disini adalah usia dan paritas, karena atribut anemia tidak ada.\n",
    "\n",
    "penjelasan kolom pada tabel dataset:\n",
    "- paritas: jumlah anak yang dimiliki, paritas I, II, III, dan IV\n",
    "- jarak kelahiran: jarak kelahiran anak terakhir dengan anak sebelumnya\n",
    "- RIW hipertensi: riwayat hipertensi\n",
    "- RIW PE: \n",
    "- RIW DM: riwayat diabetes melitus\n",
    "- sosek: sosial ekonommi atau pendapatan \n",
    "\n",
    "## Exploratory Data Analysis\n",
    "pada experiment kali ini, saya hanya akan melakukan eda karena kurangnya pemahaman di domain kesehatan dan ingin mencari tahu \n",
    "tentang pemahaman dataset.  \n",
    "EDA yang dilakukan meliputi uji korelasi antara 2 variabel bebas, plotting, dll.\n",
    "\n",
    "Setelah melakukan eda, pada tahap berikutnya mungkin kedepannya akan dilakukan unsupervised learning berupa klasterisasi  "
   ]
  },
  {
   "cell_type": "code",
   "execution_count": 13,
   "metadata": {},
   "outputs": [],
   "source": [
    "import pandas as pd\n",
    "import numpy as np\n",
    "from sklearn.model_selection import train_test_split, GridSearchCV\n",
    "from sklearn.pipeline import Pipeline\n",
    "from sklearn.compose import ColumnTransformer\n",
    "from sklearn.neighbors import KNeighborsClassifier\n",
    "import seaborn as sns\n",
    "import matplotlib.pyplot as plt"
   ]
  },
  {
   "cell_type": "code",
   "execution_count": 14,
   "metadata": {},
   "outputs": [
    {
     "data": {
      "text/html": [
       "<div>\n",
       "<style scoped>\n",
       "    .dataframe tbody tr th:only-of-type {\n",
       "        vertical-align: middle;\n",
       "    }\n",
       "\n",
       "    .dataframe tbody tr th {\n",
       "        vertical-align: top;\n",
       "    }\n",
       "\n",
       "    .dataframe thead th {\n",
       "        text-align: right;\n",
       "    }\n",
       "</style>\n",
       "<table border=\"1\" class=\"dataframe\">\n",
       "  <thead>\n",
       "    <tr style=\"text-align: right;\">\n",
       "      <th></th>\n",
       "      <th>USIA</th>\n",
       "      <th>PARITAS</th>\n",
       "    </tr>\n",
       "    <tr>\n",
       "      <th>NO</th>\n",
       "      <th></th>\n",
       "      <th></th>\n",
       "    </tr>\n",
       "  </thead>\n",
       "  <tbody>\n",
       "    <tr>\n",
       "      <th>1</th>\n",
       "      <td>23 TH</td>\n",
       "      <td>3</td>\n",
       "    </tr>\n",
       "    <tr>\n",
       "      <th>2</th>\n",
       "      <td>29 TH</td>\n",
       "      <td>2</td>\n",
       "    </tr>\n",
       "    <tr>\n",
       "      <th>3</th>\n",
       "      <td>20 TH</td>\n",
       "      <td>1</td>\n",
       "    </tr>\n",
       "    <tr>\n",
       "      <th>4</th>\n",
       "      <td>18 TH</td>\n",
       "      <td>1</td>\n",
       "    </tr>\n",
       "    <tr>\n",
       "      <th>5</th>\n",
       "      <td>34 TH</td>\n",
       "      <td>3</td>\n",
       "    </tr>\n",
       "    <tr>\n",
       "      <th>...</th>\n",
       "      <td>...</td>\n",
       "      <td>...</td>\n",
       "    </tr>\n",
       "    <tr>\n",
       "      <th>558</th>\n",
       "      <td>40 TH</td>\n",
       "      <td>3</td>\n",
       "    </tr>\n",
       "    <tr>\n",
       "      <th>559</th>\n",
       "      <td>28 TH</td>\n",
       "      <td>3</td>\n",
       "    </tr>\n",
       "    <tr>\n",
       "      <th>560</th>\n",
       "      <td>41 TH</td>\n",
       "      <td>3</td>\n",
       "    </tr>\n",
       "    <tr>\n",
       "      <th>561</th>\n",
       "      <td>32 TH</td>\n",
       "      <td>2</td>\n",
       "    </tr>\n",
       "    <tr>\n",
       "      <th>562</th>\n",
       "      <td>30 TH</td>\n",
       "      <td>2</td>\n",
       "    </tr>\n",
       "  </tbody>\n",
       "</table>\n",
       "<p>561 rows × 2 columns</p>\n",
       "</div>"
      ],
      "text/plain": [
       "      USIA  PARITAS\n",
       "NO                 \n",
       "1    23 TH        3\n",
       "2    29 TH        2\n",
       "3    20 TH        1\n",
       "4    18 TH        1\n",
       "5    34 TH        3\n",
       "..     ...      ...\n",
       "558  40 TH        3\n",
       "559  28 TH        3\n",
       "560  41 TH        3\n",
       "561  32 TH        2\n",
       "562  30 TH        2\n",
       "\n",
       "[561 rows x 2 columns]"
      ]
     },
     "execution_count": 14,
     "metadata": {},
     "output_type": "execute_result"
    }
   ],
   "source": [
    "df = pd.read_excel(\"datakasus-1.xlsx\", index_col='NO')\n",
    "df.drop(columns=[\"NAMA\", \"JARAK KELAHIRAN\", \"RIW HIPERTENSI\", \"RIW PE\", \"OBESITAS\", \"RIW DM\", \"RIW HIPERTENSI/PE DALAM KELUARGA\", \"SOSEK RENDAH\", \"PE/Non PE\"], inplace=True)\n",
    "df = df[[\"USIA\", \"PARITAS\"]]\n",
    "df"
   ]
  },
  {
   "cell_type": "markdown",
   "metadata": {},
   "source": []
  },
  {
   "cell_type": "markdown",
   "metadata": {},
   "source": [
    "### Mengubah datatype kolom Usia \n",
    "datatype pada kolom usia perlu diubah dari `str` atau `nan` menjadi `int`"
   ]
  },
  {
   "cell_type": "code",
   "execution_count": 15,
   "metadata": {},
   "outputs": [
    {
     "name": "stdout",
     "output_type": "stream",
     "text": [
      "USIA       0.0\n",
      "PARITAS    0.0\n",
      "dtype: float64\n"
     ]
    }
   ],
   "source": [
    "# Fungsi untuk membersihkan dan mengkonversi data usia\n",
    "\n",
    "# case:\n",
    "    # str:\n",
    "        # xx th or xxth or xx TH\n",
    "    # int\n",
    "    # nan\n",
    "# NaN, 34 th, 34 TH, 34th, 34TH\n",
    "\n",
    "def clean(usia):\n",
    "    if type(usia) == int:\n",
    "        return usia\n",
    "    if usia == np.NAN:\n",
    "        return np.NAN\n",
    "    if type(usia) == str:\n",
    "        return int(usia[:2])\n",
    "    return\n",
    "\n",
    "df[\"USIA\"] = df[\"USIA\"].apply(clean)\n",
    "df[\"USIA\"] = df[\"USIA\"].fillna(0).astype(\"Int64\")\n",
    "# df.dropna(axis='index', inplace=True)\n",
    "print(df.isna().mean())\n",
    "\n"
   ]
  },
  {
   "cell_type": "code",
   "execution_count": 20,
   "metadata": {},
   "outputs": [
    {
     "name": "stdout",
     "output_type": "stream",
     "text": [
      "     USIA  PARITAS\n",
      "NO                \n",
      "101     0        1\n",
      "102     0        1\n",
      "264     0        1\n"
     ]
    },
    {
     "name": "stderr",
     "output_type": "stream",
     "text": [
      "C:\\Users\\Bagas\\AppData\\Local\\Temp\\ipykernel_12556\\236980237.py:1: RuntimeWarning: Engine has switched to 'python' because numexpr does not support extension array dtypes. Please set your engine to python manually.\n",
      "  print(df.query(\"USIA == 0\"))\n"
     ]
    }
   ],
   "source": [
    "print(df.query(\"USIA == 0\"))"
   ]
  },
  {
   "cell_type": "code",
   "execution_count": 21,
   "metadata": {},
   "outputs": [
    {
     "data": {
      "text/plain": [
       "USIA       Int64\n",
       "PARITAS    int64\n",
       "dtype: object"
      ]
     },
     "execution_count": 21,
     "metadata": {},
     "output_type": "execute_result"
    }
   ],
   "source": [
    "df.dtypes"
   ]
  },
  {
   "cell_type": "code",
   "execution_count": 22,
   "metadata": {},
   "outputs": [
    {
     "data": {
      "text/html": [
       "<div>\n",
       "<style scoped>\n",
       "    .dataframe tbody tr th:only-of-type {\n",
       "        vertical-align: middle;\n",
       "    }\n",
       "\n",
       "    .dataframe tbody tr th {\n",
       "        vertical-align: top;\n",
       "    }\n",
       "\n",
       "    .dataframe thead th {\n",
       "        text-align: right;\n",
       "    }\n",
       "</style>\n",
       "<table border=\"1\" class=\"dataframe\">\n",
       "  <thead>\n",
       "    <tr style=\"text-align: right;\">\n",
       "      <th></th>\n",
       "      <th>USIA</th>\n",
       "      <th>PARITAS</th>\n",
       "    </tr>\n",
       "  </thead>\n",
       "  <tbody>\n",
       "    <tr>\n",
       "      <th>count</th>\n",
       "      <td>561.0</td>\n",
       "      <td>561.000000</td>\n",
       "    </tr>\n",
       "    <tr>\n",
       "      <th>mean</th>\n",
       "      <td>28.003565</td>\n",
       "      <td>1.709447</td>\n",
       "    </tr>\n",
       "    <tr>\n",
       "      <th>std</th>\n",
       "      <td>6.255282</td>\n",
       "      <td>1.012105</td>\n",
       "    </tr>\n",
       "    <tr>\n",
       "      <th>min</th>\n",
       "      <td>0.0</td>\n",
       "      <td>0.000000</td>\n",
       "    </tr>\n",
       "    <tr>\n",
       "      <th>25%</th>\n",
       "      <td>24.0</td>\n",
       "      <td>1.000000</td>\n",
       "    </tr>\n",
       "    <tr>\n",
       "      <th>50%</th>\n",
       "      <td>28.0</td>\n",
       "      <td>2.000000</td>\n",
       "    </tr>\n",
       "    <tr>\n",
       "      <th>75%</th>\n",
       "      <td>32.0</td>\n",
       "      <td>2.000000</td>\n",
       "    </tr>\n",
       "    <tr>\n",
       "      <th>max</th>\n",
       "      <td>43.0</td>\n",
       "      <td>6.000000</td>\n",
       "    </tr>\n",
       "  </tbody>\n",
       "</table>\n",
       "</div>"
      ],
      "text/plain": [
       "            USIA     PARITAS\n",
       "count      561.0  561.000000\n",
       "mean   28.003565    1.709447\n",
       "std     6.255282    1.012105\n",
       "min          0.0    0.000000\n",
       "25%         24.0    1.000000\n",
       "50%         28.0    2.000000\n",
       "75%         32.0    2.000000\n",
       "max         43.0    6.000000"
      ]
     },
     "execution_count": 22,
     "metadata": {},
     "output_type": "execute_result"
    }
   ],
   "source": [
    "df.describe()"
   ]
  },
  {
   "cell_type": "code",
   "execution_count": 23,
   "metadata": {},
   "outputs": [
    {
     "data": {
      "image/png": "[encoded data removed]",
      "text/plain": [
       "<Figure size 640x480 with 1 Axes>"
      ]
     },
     "metadata": {},
     "output_type": "display_data"
    }
   ],
   "source": [
    "# mencari oulier dengan boxplot\n",
    "plt.boxplot(df[\"USIA\"])\n",
    "# plt.boxplot(df[\"USIA\"])\n",
    "plt.title('Box plot using Matplotlib')\n",
    "plt.show()"
   ]
  },
  {
   "cell_type": "code",
   "execution_count": 41,
   "metadata": {},
   "outputs": [
    {
     "name": "stdout",
     "output_type": "stream",
     "text": [
      "12.0   44.0\n",
      "under q1:  Empty DataFrame\n",
      "Columns: [USIA, PARITAS]\n",
      "Index: []  upper q3:  Empty DataFrame\n",
      "Columns: [USIA, PARITAS]\n",
      "Index: []\n"
     ]
    },
    {
     "data": {
      "text/html": [
       "<div>\n",
       "<style scoped>\n",
       "    .dataframe tbody tr th:only-of-type {\n",
       "        vertical-align: middle;\n",
       "    }\n",
       "\n",
       "    .dataframe tbody tr th {\n",
       "        vertical-align: top;\n",
       "    }\n",
       "\n",
       "    .dataframe thead th {\n",
       "        text-align: right;\n",
       "    }\n",
       "</style>\n",
       "<table border=\"1\" class=\"dataframe\">\n",
       "  <thead>\n",
       "    <tr style=\"text-align: right;\">\n",
       "      <th></th>\n",
       "      <th>USIA</th>\n",
       "      <th>PARITAS</th>\n",
       "    </tr>\n",
       "  </thead>\n",
       "  <tbody>\n",
       "    <tr>\n",
       "      <th>count</th>\n",
       "      <td>558.000000</td>\n",
       "      <td>558.000000</td>\n",
       "    </tr>\n",
       "    <tr>\n",
       "      <th>mean</th>\n",
       "      <td>28.154122</td>\n",
       "      <td>1.713262</td>\n",
       "    </tr>\n",
       "    <tr>\n",
       "      <th>std</th>\n",
       "      <td>5.923926</td>\n",
       "      <td>1.013483</td>\n",
       "    </tr>\n",
       "    <tr>\n",
       "      <th>min</th>\n",
       "      <td>13.000000</td>\n",
       "      <td>0.000000</td>\n",
       "    </tr>\n",
       "    <tr>\n",
       "      <th>25%</th>\n",
       "      <td>24.000000</td>\n",
       "      <td>1.000000</td>\n",
       "    </tr>\n",
       "    <tr>\n",
       "      <th>50%</th>\n",
       "      <td>28.000000</td>\n",
       "      <td>2.000000</td>\n",
       "    </tr>\n",
       "    <tr>\n",
       "      <th>75%</th>\n",
       "      <td>32.000000</td>\n",
       "      <td>2.000000</td>\n",
       "    </tr>\n",
       "    <tr>\n",
       "      <th>max</th>\n",
       "      <td>43.000000</td>\n",
       "      <td>6.000000</td>\n",
       "    </tr>\n",
       "  </tbody>\n",
       "</table>\n",
       "</div>"
      ],
      "text/plain": [
       "             USIA     PARITAS\n",
       "count  558.000000  558.000000\n",
       "mean    28.154122    1.713262\n",
       "std      5.923926    1.013483\n",
       "min     13.000000    0.000000\n",
       "25%     24.000000    1.000000\n",
       "50%     28.000000    2.000000\n",
       "75%     32.000000    2.000000\n",
       "max     43.000000    6.000000"
      ]
     },
     "execution_count": 41,
     "metadata": {},
     "output_type": "execute_result"
    }
   ],
   "source": [
    "# handle outlier with iqr\n",
    "# get q1\n",
    "q1 = df[\"USIA\"].quantile(0.25)\n",
    "q3 = df[\"USIA\"].quantile(0.75)\n",
    "iqr = q3 - q1\n",
    "\n",
    "lower_bound = q1 - 1.5 * iqr\n",
    "upper_bound = q3 + 1.5 * iqr\n",
    "print(lower_bound, \" \", upper_bound)\n",
    "# lower_bound, upper_bound\n",
    "# outlier = df[(df[\"USIA\"] < lower_bound) | (df[\"USIA\"] > upper_bound)]\n",
    "df = df[df[\"USIA\"] > lower_bound]\n",
    "df = df[df[\"USIA\"] < upper_bound]\n",
    "\n",
    "\n",
    "\n",
    "# df[\"USIA\"] = np.where((df[\"USIA\"] < lower_bound) | df[\"USIA\"] > upper_bound, mean, df[\"USIA\"])\n",
    "# menghapus baris yang bernilai 0\n",
    "# # df = df[df[\"USIA\"] > 0]\n",
    "# df.query(\"USIA == 0\")\n",
    "print(\"under q1: \", df.query(\"USIA < @lower_bound\"), \" upper q3: \", df.query(\"USIA > @upper_bound\"))\n",
    "# df.loc[101:105, \"USIA\"]\n",
    "df.describe()"
   ]
  },
  {
   "cell_type": "markdown",
   "metadata": {},
   "source": [
    "langkah diatas perlu dilakukan untuk menghilangkan nilai outlier, seperti 0, dsb. \n",
    "berdasarkan output, dapat disimpulkan bahwa data tersebut sudah bersih dari outlier"
   ]
  },
  {
   "cell_type": "markdown",
   "metadata": {},
   "source": [
    "### Uji korelasi\n",
    "Uji korelasi adalah metode statistik yang digunakan untuk menentukan apakah ada hubungan antara dua variabel, dan seberapa kuat hubungan tersebut. Korelasi diukur dengan koefisien korelasi yang berkisar antara -1 hingga 1. Nilai 1 menunjukkan korelasi positif sempurna, -1 menunjukkan korelasi negatif sempurna, dan 0 menunjukkan tidak ada korelasi.\n",
    "Ada berbagai jenis uji korelasi, seperti Pearson's Correlation, Spearman's Rank Correlation, dan Kendall's Tau.\n",
    "\n",
    "Uji korelasi akan dilakukan pada atribut usia dan paritas karena diduga keduanya memiliki pengaruh.\n",
    "Hal ini didasarkan karena jika label x dan y memiliki nilai y = Ax dan y dan z memiliki nilai y = Bz, maka x, y, dan z, dapat \n",
    "dikonstruksi menjadi `y = Ax + Bz`\n",
    "Maka x dan z memiliki hubungan nilai `z = (y - Ax)/B`\n",
    "\n",
    "Uji korelasi yang dilakukan menggunakan spearman karena akan dicari hubungan antara atribut usia bertipe interval dengan atribut paritas yang bertipe ordinal"
   ]
  },
  {
   "cell_type": "code",
   "execution_count": 43,
   "metadata": {},
   "outputs": [
    {
     "name": "stdout",
     "output_type": "stream",
     "text": [
      "SignificanceResult(statistic=0.5267314935634082, pvalue=3.728629016120664e-41)\n"
     ]
    }
   ],
   "source": [
    "from scipy.stats import spearmanr\n",
    "\n",
    "rank_corr = spearmanr(df[\"USIA\"].values, df[\"PARITAS\"].values)\n",
    "print(rank_corr)"
   ]
  },
  {
   "cell_type": "markdown",
   "metadata": {},
   "source": [
    "hasil statistik dari uji korelasi spearman yang > 0, menunjukkan bahwa ada korelasi positif antara paritas dengan usia"
   ]
  }
 ],
 "metadata": {
  "kernelspec": {
   "display_name": "datamining",
   "language": "python",
   "name": "python3"
  },
  "language_info": {
   "codemirror_mode": {
    "name": "ipython",
    "version": 3
   },
   "file_extension": ".py",
   "mimetype": "text/x-python",
   "name": "python",
   "nbconvert_exporter": "python",
   "pygments_lexer": "ipython3",
   "version": "3.12.5"
  }
 },
 "nbformat": 4,
 "nbformat_minor": 2
}
